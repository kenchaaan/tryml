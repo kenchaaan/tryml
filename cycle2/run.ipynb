{
 "cells": [
  {
   "cell_type": "code",
   "execution_count": 1,
   "metadata": {
    "collapsed": true
   },
   "outputs": [
    {
     "name": "stdout",
     "output_type": "stream",
     "text": [
      "if Weight = 35.6, then Tall = [138.18115595320842].\nif Weight = 40.7, then Tall = [147.60120273695125].\n"
     ]
    }
   ],
   "source": [
    "import pandas as pd\n",
    "import matplotlib.pyplot as plt\n",
    "import numpy as np\n",
    "\n",
    "from cycle2.my_polynomial_regression import MyPolynomialRegression"
   ]
  },
  {
   "cell_type": "code",
   "execution_count": 2,
   "metadata": {
    "collapsed": true
   },
   "outputs": [
    {
     "name": "stdout",
     "output_type": "stream",
     "text": [
      "if Weight = 35.6, then Tall = [138.18115595320842].\nif Weight = 40.7, then Tall = [147.60120273695125].\n"
     ]
    }
   ],
   "source": [
    "# 確認問題\n",
    "\n",
    "# データ読み込み\n",
    "data = pd.read_csv('cycle2/resources/tallweight.csv')\n",
    "x_train = data[\"Weight\"].values\n",
    "t_train = data['Tall'].values\n",
    "\n",
    "# 学習\n",
    "ply = MyPolynomialRegression()\n",
    "ply.fit(x_train, t_train)\n",
    "\n",
    "# 予測結果\n",
    "print(\"if Weight = 35.6, then Tall = %s.\" % ply.predict(35.6))\n",
    "print(\"if Weight = 40.7, then Tall = %s.\" % ply.predict(40.7))"
   ]
  },
  {
   "cell_type": "code",
   "execution_count": 3,
   "metadata": {},
   "outputs": [],
   "source": [
    "# 実践問題\n",
    "\n",
    "# 学習データ読み込み\n",
    "data = pd.read_csv('cycle1/resources/sin.csv', header=None, names=('x', 'y')).sort_values('x')\n",
    "x_train = data['x'].values\n",
    "t_train = data['y'].values\n",
    "\n",
    "# 元データをプロット\n",
    "plt.plot(x_train, t_train, 'o', color='black')\n",
    "\n",
    "# 多項式回帰(M=3)\n",
    "ply.fit(x_train, t_train, degree=3)\n",
    "t_predicted = ply.predict(x_train)\n",
    "plt.plot(x_train, t_predicted, label='M = %s' % 3, color='blue')\n",
    "plt.legend()\n",
    "\n",
    "# show\n",
    "plt.show()"
   ]
  },
  {
   "cell_type": "code",
   "execution_count": 106,
   "metadata": {},
   "outputs": [],
   "source": [
    "# sklearn を使う\n",
    "\n",
    "from sklearn.linear_model import LinearRegression\n",
    "from sklearn.preprocessing import PolynomialFeatures\n",
    "from sklearn.pipeline import Pipeline\n",
    "\n",
    "# modelを作成\n",
    "model = Pipeline([('poly_sk', PolynomialFeatures(degree=3)),\n",
    "                  ('linear', LinearRegression(fit_intercept=False))])\n",
    "\n",
    "# このライブラリにあうように元データを変形\n",
    "# こっちのほうがいい。なぜなら僕が作ったものはINPUTデータが1次元に限ってしまうので。\n",
    "x_train_for_sklearn = np.array(x_train)[:, np.newaxis]\n",
    "t_train_for_sklearn = np.array(t_train)[:, np.newaxis]\n",
    "\n",
    "# 学習\n",
    "model.fit(x_train_for_sklearn, t_train_for_sklearn)\n",
    "\n",
    "# 元データをプロット\n",
    "plt.plot(x_train, t_train, 'o', color='black')\n",
    "\n",
    "# 学習した曲線をプロット\n",
    "plt.plot(x_train, model.predict(x_train_for_sklearn), color='red')\n",
    "\n",
    "# show\n",
    "plt.show()"
   ]
  },
  {
   "cell_type": "code",
   "execution_count": 4,
   "metadata": {},
   "outputs": [],
   "source": [
    "# 次数を3, 10, 200 と増やす\n",
    "\n",
    "# 元データをプロット\n",
    "plt.plot(x_train, t_train, 'o', color='black')\n",
    "\n",
    "for k in [3, 10, 200]:\n",
    "    ply.fit(x_train, t_train, degree=k)\n",
    "    t_predicted = ply.predict(x_train)\n",
    "    plt.plot(x_train, t_predicted, label=\"M=%s\" % k)\n",
    "plt.legend()\n",
    "plt.show()"
   ]
  },
  {
   "cell_type": "code",
   "execution_count": 6,
   "metadata": {},
   "outputs": [],
   "source": [
    "# (extra) Ridge Regression\n",
    "\n",
    "# 元データをプロット\n",
    "plt.plot(x_train, t_train, 'o', color='black')\n",
    "\n",
    "# 重みを指定して回帰\n",
    "ply_ridge = MyPolynomialRegression()\n",
    "for k in [3, 10, 200]:\n",
    "    ply_ridge.fit(x_train, t_train, degree=k, ridge_param=0.01)\n",
    "    t_predicted = ply_ridge.predict(x_train)\n",
    "    plt.plot(x_train, t_predicted, label=\"M=%s\" % k)\n",
    "plt.legend()\n",
    "plt.show()"
   ]
  },
  {
   "cell_type": "code",
   "execution_count": null,
   "metadata": {},
   "outputs": [],
   "source": []
  }
 ],
 "metadata": {
  "kernelspec": {
   "display_name": "Python 2",
   "language": "python",
   "name": "python2"
  },
  "language_info": {
   "codemirror_mode": {
    "name": "ipython",
    "version": 2
   },
   "file_extension": ".py",
   "mimetype": "text/x-python",
   "name": "python",
   "nbconvert_exporter": "python",
   "pygments_lexer": "ipython2",
   "version": "2.7.6"
  }
 },
 "nbformat": 4,
 "nbformat_minor": 0
}
